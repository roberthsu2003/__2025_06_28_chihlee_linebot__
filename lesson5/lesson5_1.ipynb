{
 "cells": [
  {
   "cell_type": "code",
   "execution_count": 2,
   "id": "0167eb4f",
   "metadata": {},
   "outputs": [
    {
     "name": "stdout",
     "output_type": "stream",
     "text": [
      "💬 AI 回應：\n",
      "{'model': 'gemma3:1b', 'created_at': '2025-08-01T23:23:29.290853591Z', 'response': '{ \\n    \"我是一個大型語言模型，由 Google 訓練。我是一個人工智能程式，我的目的是提供資訊、撰寫不同類型的創意內容，並以友善和有幫助的方式與人類互動。\":\\n\\n    { \\n        \"我是在 Google 訓練的。我是一個大型語言模型，我的主要功能是理解和生成人類語言。我可以回答問題、撰寫不同類型的創意內容，並提供信息。我學習和改進我的能力，持續從用戶的互動中學習。\":\\n    \\n    \\n    \\n    \\n    \\n    \\n    \\n    \\n    \\n    \\n    \\n    \\n    \\n    \\n    \\n', 'done': False}\n",
      "{ \n",
      "    \"我是一個大型語言模型，由 Google 訓練。我是一個人工智能程式，我的目的是提供資訊、撰寫不同類型的創意內容，並以友善和有幫助的方式與人類互動。\":\n",
      "\n",
      "    { \n",
      "        \"我是在 Google 訓練的。我是一個大型語言模型，我的主要功能是理解和生成人類語言。我可以回答問題、撰寫不同類型的創意內容，並提供信息。我學習和改進我的能力，持續從用戶的互動中學習。\":\n",
      "    \n",
      "    \n",
      "    \n",
      "    \n",
      "    \n",
      "    \n",
      "    \n",
      "    \n",
      "    \n",
      "    \n",
      "    \n",
      "    \n",
      "    \n",
      "    \n",
      "    \n",
      "\n"
     ]
    }
   ],
   "source": [
    "import requests\n",
    "\n",
    "def chat_with_ollama(prompt: str):\n",
    "    url = \"http://localhost:11434/api/generate\"\n",
    "    payload = {\n",
    "        \"model\": \"gemma3:1b\",\n",
    "        \"prompt\": prompt,\n",
    "        \"stream\": False,\n",
    "        \"options\": { #參考說明1\n",
    "            \"temperature\": 0.7,\n",
    "            \"top_p\": 0.9,\n",
    "            \"top_k\": 50,\n",
    "        },\n",
    "        \"max_tokens\": 100,\n",
    "        \"format\": \"json\",\n",
    "    }\n",
    "\n",
    "    response = requests.post(url, json=payload)\n",
    "    result = response.json()\n",
    "    print(\"💬 AI 回應：\")\n",
    "    # Print the whole result for debugging\n",
    "    print(result)\n",
    "    # Try to print the 'response' key if it exists, otherwise print possible keys\n",
    "    if \"response\" in result:\n",
    "        print(result[\"response\"])\n",
    "    elif \"message\" in result:\n",
    "        print(result[\"message\"])\n",
    "    elif \"content\" in result:\n",
    "        print(result[\"content\"])\n",
    "    else:\n",
    "        print(\"No expected key found in response. Available keys:\", result.keys())\n",
    "\n",
    "#範例輸入\n",
    "chat_with_ollama(\"請問你是誰？\")  # Example input"
   ]
  },
  {
   "cell_type": "code",
   "execution_count": null,
   "id": "bead25f2",
   "metadata": {},
   "outputs": [],
   "source": [
    "import requests\n",
    "\n",
    "url = 'https://github.com/open-webui/open-webui'\n",
    "response = requests.get(url) #引數值的呼叫\n",
    "#type(response)\n",
    "if response.status_code == 200:\n",
    "    print(\"下載成功\")\n",
    "    print(response.text)\n",
    "\n",
    "#requests.get(url=url) #引數名稱呼叫\n"
   ]
  },
  {
   "cell_type": "code",
   "execution_count": 36,
   "id": "44f7045c",
   "metadata": {},
   "outputs": [
    {
     "name": "stdout",
     "output_type": "stream",
     "text": [
      "成功\n"
     ]
    },
    {
     "data": {
      "text/markdown": [
       "天空之所以是藍的，是一個複雜的現象，主要歸因於一種稱為 **瑞利散射** 的光學現象。簡單來說，就是太陽光中的藍光比其他顏色更易被散射。以下是更詳細的解釋：\n",
       "\n",
       "**1. 太陽光中的顏色:**\n",
       "\n",
       "* 太陽光實際上是白色的，但看起來是黃色的。這是因為太陽光中包含所有顏色的光。\n",
       "* 太陽光中的各個顏色是不同的波長，波長越短，顏色越亮。\n",
       "* 藍光和紫光波長短，因此更容易被空氣和空氣中的分子散射。\n",
       "\n",
       "**2. 瑞利散射:**\n",
       "\n",
       "* 瑞利散射是光線在通過介質（如空氣）時，被微小粒子（如分子和氣體）散射的現象。\n",
       "* 藍光波長短，更容易被這些微小粒子散射，因此被散射得更加分散。\n",
       "* 紫光波長長，散射效果較弱，所以我們主要看到藍色。\n",
       "\n",
       "**3. 空氣中的分子:**\n",
       "\n",
       "* 空氣中包含大量的微小分子，例如氮氣和氧氣。\n",
       "* 這些分子就像小小的“避風碗”，會向藍光散射，讓藍光更容易到達我們的眼睛。\n",
       "* 紫光和紅色光則更容易穿透這些分子，所以天空看起來是藍色的。\n",
       "\n",
       "**4. 日出和日落時的現象:**\n",
       "\n",
       "* 在日出和日落時，太陽光需要穿過更厚一層的空氣層才能到達我們的眼睛。\n",
       "* 藍光在穿過這個厚層時被大部分散射了，剩下的藍光就更容易到達我們的眼睛，因此我們看到的天空變得更加藍。\n",
       "\n",
       "**總結來說，天空之所以是藍色的，是因為太陽光中的藍光更容易被空氣中的分子散射，導致我們看到藍色的光線。**\n",
       "\n",
       "希望這個解釋對您有幫助！\n"
      ],
      "text/plain": [
       "<IPython.core.display.Markdown object>"
      ]
     },
     "metadata": {},
     "output_type": "display_data"
    }
   ],
   "source": [
    "import requests\n",
    "from IPython.display import Markdown, display\n",
    "\n",
    "url = \"http://localhost:11434/api/generate\"\n",
    "response = requests.post(url,json={\n",
    "  \"model\": \"gemma3:1b\",\n",
    "  \"prompt\":\"天空為什麼是藍的?\",\n",
    "  \"stream\": False,\n",
    "})\n",
    "if response.status_code == 200:\n",
    "    print(\"成功\")\n",
    "    result = response.json()\n",
    "    display(Markdown(result['response']))\n",
    "else:\n",
    "    print(\"失敗\")\n",
    "    print(\"原因\",response.status_code)"
   ]
  },
  {
   "cell_type": "code",
   "execution_count": 34,
   "id": "62f36182",
   "metadata": {},
   "outputs": [
    {
     "name": "stdout",
     "output_type": "stream",
     "text": [
      "tw\n",
      "jp\n",
      "hk\n",
      "Taiwan\n",
      "Japan\n",
      "Hong kong\n",
      "Taiwan tw\n",
      "Japan jp\n",
      "Hong kong hk\n"
     ]
    }
   ],
   "source": [
    "codes = {\n",
    "    \"tw\":\"Taiwan\",\n",
    "    \"jp\":\"Japan\",\n",
    "    \"hk\":\"Hong kong\"\n",
    "}\n",
    "codes[\"tw\"]\n",
    "codes[\"jp\"]\n",
    "codes['hk']\n",
    "codes.keys()\n",
    "for item in codes.keys():\n",
    "    print(item)\n",
    "\n",
    "for value in codes.values():\n",
    "    print(value)\n",
    "\n",
    "for (code,name) in codes.items():\n",
    "    print(name, code)"
   ]
  }
 ],
 "metadata": {
  "kernelspec": {
   "display_name": "line_bot",
   "language": "python",
   "name": "python3"
  },
  "language_info": {
   "codemirror_mode": {
    "name": "ipython",
    "version": 3
   },
   "file_extension": ".py",
   "mimetype": "text/x-python",
   "name": "python",
   "nbconvert_exporter": "python",
   "pygments_lexer": "ipython3",
   "version": "3.12.11"
  }
 },
 "nbformat": 4,
 "nbformat_minor": 5
}
