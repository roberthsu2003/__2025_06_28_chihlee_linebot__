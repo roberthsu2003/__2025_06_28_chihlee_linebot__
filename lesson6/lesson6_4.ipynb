{
 "cells": [
  {
   "cell_type": "code",
   "execution_count": 5,
   "id": "a4f9796a",
   "metadata": {},
   "outputs": [
    {
     "name": "stdout",
     "output_type": "stream",
     "text": [
      "===========AI回應==============\n"
     ]
    },
    {
     "data": {
      "text/markdown": [
       "好，我用簡單的方式解釋一下 Python 的函式：\n",
       "\n",
       "**想像一下：** 函式就像一個小工具，你給它一個問題，它會幫你完成這個問題，然後給你一個結果。\n",
       "\n",
       "**簡單來說，Python 的函式是為了重複執行特定的操作。**\n",
       "\n",
       "**以下是一些更具體的解釋：**\n",
       "\n",
       "* **重複執行一件事：** 函式可以多次地執行相同的步驟，就像玩一個遊戲，你玩了多次，結果都是一樣的。\n",
       "* **你給函式一個問題，它會根據你的問題，找到一個方法來回答。**\n",
       "* **函式會得到一個結果，你可以用這個結果來做其他事情。**\n",
       "\n",
       "**舉個例子：**\n",
       "\n",
       "假設你想要計算一個數字的平方。\n",
       "\n",
       "* **你不會直接寫：`2 * 2`  ，因為這太長了。**\n",
       "* **你會寫一個函式：`def square(x):`**  這個函式告訴 Python ：“這函式叫 `square`，它會接收一個數 `x`，然後計算 `x` 的平方，並將結果返回給你。”\n",
       "\n",
       "* **然後你輸入 `square(5)`：** 函式會得到 `5`，然後計算 `5 * 5 = 25`，並把結果 `25` 輸給你。\n",
       "\n",
       "**Python 函式的主要作用：**\n",
       "\n",
       "* **自動化重複工作：** 比如，處理用戶輸入、計算數據、建立文件等等。\n",
       "* **提供有用的功能：**  就像你擁有的工具，可以讓你更容易地完成任務。\n",
       "\n",
       "**總結：**\n",
       "\n",
       "Python 函式就像是預先寫好的程序片段，你可以用它來做各種各樣的事情。  它們像是被定義好的“小短手”，可以讓你更快速、更方便地完成任務。\n",
       "\n",
       "希望這個解釋對你有幫助！  你想了解更多關於 Python 函式的訊息嗎？ 比如，你想要知道如何創建自己的函式嗎？\n"
      ],
      "text/plain": [
       "<IPython.core.display.Markdown object>"
      ]
     },
     "metadata": {},
     "output_type": "display_data"
    }
   ],
   "source": [
    "import requests\n",
    "#import pprint\n",
    "from pprint import pprint\n",
    "from IPython.display import Markdown, display\n",
    "\n",
    "def generate_with_ollama(prompt:str)->None:\n",
    "    url = \"http://localhost:11434/api/generate\"\n",
    "    payload = {\n",
    "        \"model\":\"gemma3:1b\",\n",
    "        \"prompt\":prompt,\n",
    "        \"stream\":False\n",
    "    }\n",
    "    response = requests.post(url,json=payload)\n",
    "    result = response.json()\n",
    "    #print(type(result))\n",
    "    #pprint(result)\n",
    "    print(\"===========AI回應==============\")\n",
    "    display(Markdown(result['response']))\n",
    "\n",
    "generate_with_ollama(\"請用簡單的方式解釋什麼是Python的函式？\")"
   ]
  }
 ],
 "metadata": {
  "kernelspec": {
   "display_name": "line_bot",
   "language": "python",
   "name": "python3"
  },
  "language_info": {
   "codemirror_mode": {
    "name": "ipython",
    "version": 3
   },
   "file_extension": ".py",
   "mimetype": "text/x-python",
   "name": "python",
   "nbconvert_exporter": "python",
   "pygments_lexer": "ipython3",
   "version": "3.12.11"
  }
 },
 "nbformat": 4,
 "nbformat_minor": 5
}
